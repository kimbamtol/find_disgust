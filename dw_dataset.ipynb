{
 "cells": [
  {
   "cell_type": "code",
   "execution_count": 3,
   "id": "a31bd526-082f-4a5c-b25f-23f332dc650f",
   "metadata": {},
   "outputs": [],
   "source": [
    "# coding=utf-8\n",
    "# Copyright 2020 The HuggingFace Datasets Authors and the current dataset script contributor.\n",
    "#\n",
    "# Licensed under the Apache License, Version 2.0 (the \"License\");\n",
    "# you may not use this file except in compliance with the License.\n",
    "# You may obtain a copy of the License at\n",
    "#\n",
    "#     http://www.apache.org/licenses/LICENSE-2.0\n",
    "#\n",
    "# Unless required by applicable law or agreed to in writing, software\n",
    "# distributed under the License is distributed on an \"AS IS\" BASIS,\n",
    "# WITHOUT WARRANTIES OR CONDITIONS OF ANY KIND, either express or implied.\n",
    "# See the License for the specific language governing permissions and\n",
    "# limitations under the License.\n",
    "\"\"\"Korean HateSpeech Dataset\"\"\"\n",
    "\n",
    "\n",
    "import csv\n",
    "\n",
    "import datasets\n",
    "\n",
    "\n",
    "_CITATION = \"\"\"\\\n",
    "@inproceedings{moon-etal-2020-beep,\n",
    "    title = \"{BEEP}! {K}orean Corpus of Online News Comments for Toxic Speech Detection\",\n",
    "    author = \"Moon, Jihyung  and\n",
    "      Cho, Won Ik  and\n",
    "      Lee, Junbum\",\n",
    "    booktitle = \"Proceedings of the Eighth International Workshop on Natural Language Processing for Social Media\",\n",
    "    month = jul,\n",
    "    year = \"2020\",\n",
    "    address = \"Online\",\n",
    "    publisher = \"Association for Computational Linguistics\",\n",
    "    url = \"https://www.aclweb.org/anthology/2020.socialnlp-1.4\",\n",
    "    pages = \"25--31\",\n",
    "    abstract = \"Toxic comments in online platforms are an unavoidable social issue under the cloak of anonymity. Hate speech detection has been actively done for languages such as English, German, or Italian, where manually labeled corpus has been released. In this work, we first present 9.4K manually labeled entertainment news comments for identifying Korean toxic speech, collected from a widely used online news platform in Korea. The comments are annotated regarding social bias and hate speech since both aspects are correlated. The inter-annotator agreement Krippendorff{'}s alpha score is 0.492 and 0.496, respectively. We provide benchmarks using CharCNN, BiLSTM, and BERT, where BERT achieves the highest score on all tasks. The models generally display better performance on bias identification, since the hate speech detection is a more subjective issue. Additionally, when BERT is trained with bias label for hate speech detection, the prediction score increases, implying that bias and hate are intertwined. We make our dataset publicly available and open competitions with the corpus and benchmarks.\",\n",
    "}\n",
    "\"\"\"\n",
    "\n",
    "_DESCRIPTION = \"\"\"\\\n",
    "Human-annotated Korean corpus collected from a popular domestic entertainment news aggregation platform\n",
    "for toxic speech detection. Comments are annotated for gender bias, social bias and hate speech.\n",
    "\"\"\"\n",
    "\n",
    "_HOMEPAGE = \"https://github.com/kocohub/korean-hate-speech\"\n",
    "\n",
    "_LICENSE = \"Creative Commons\"\n",
    "\n",
    "_TRAIN_DOWNLOAD_URL = \"https://raw.githubusercontent.com/kocohub/korean-hate-speech/master/labeled/train.tsv\"\n",
    "_TEST_DOWNLOAD_URL = \"https://raw.githubusercontent.com/kocohub/korean-hate-speech/master/labeled/dev.tsv\"\n",
    "\n",
    "\n",
    "class KorHate(datasets.GeneratorBasedBuilder):\n",
    "    \"\"\"Korean Corpus of Online News Comments for Toxic Speech Detection\"\"\"\n",
    "\n",
    "    VERSION = datasets.Version(\"1.1.0\")\n",
    "\n",
    "    def _info(self):\n",
    "\n",
    "        features = datasets.Features(\n",
    "            {\n",
    "                \"comments\": datasets.Value(\"string\"),\n",
    "                \"contain_gender_bias\": datasets.features.ClassLabel(names=[\"False\", \"True\"]),\n",
    "                \"bias\": datasets.features.ClassLabel(names=[\"none\", \"gender\", \"others\"]),\n",
    "                \"hate\": datasets.features.ClassLabel(names=[\"hate\", \"offensive\", \"none\"]),\n",
    "            }\n",
    "        )\n",
    "\n",
    "        return datasets.DatasetInfo(\n",
    "            description=_DESCRIPTION,\n",
    "            features=features,\n",
    "            supervised_keys=None,\n",
    "            homepage=_HOMEPAGE,\n",
    "            license=_LICENSE,\n",
    "            citation=_CITATION,\n",
    "        )\n",
    "\n",
    "    def _split_generators(self, dl_manager):\n",
    "        train_path = dl_manager.download_and_extract(_TRAIN_DOWNLOAD_URL)\n",
    "        test_path = dl_manager.download_and_extract(_TEST_DOWNLOAD_URL)\n",
    "        return [\n",
    "            datasets.SplitGenerator(name=datasets.Split.TRAIN, gen_kwargs={\"filepath\": train_path}),\n",
    "            datasets.SplitGenerator(name=datasets.Split.TEST, gen_kwargs={\"filepath\": test_path}),\n",
    "        ]\n",
    "\n",
    "    def _generate_examples(self, filepath):\n",
    "        \"\"\"Generate Korean HateSpeech examples\"\"\"\n",
    "\n",
    "        with open(filepath, encoding=\"utf-8\") as tsv_file:\n",
    "            tsv_reader = csv.DictReader(tsv_file, delimiter=\"\\t\", quoting=csv.QUOTE_NONE)\n",
    "            for id_, row in enumerate(tsv_reader):\n",
    "                yield id_, {\n",
    "                    \"comments\": row[\"comments\"],\n",
    "                    \"contain_gender_bias\": row[\"contain_gender_bias\"],\n",
    "                    \"bias\": row[\"bias\"],\n",
    "                    \"hate\": row[\"hate\"],\n",
    "                }"
   ]
  },
  {
   "cell_type": "code",
   "execution_count": 4,
   "id": "57fb3af3-ff8e-480c-b98a-7c53b4d31a63",
   "metadata": {},
   "outputs": [],
   "source": [
    "import requests\n",
    "\n",
    "urls = {\n",
    "    \"train.tsv\": \"https://raw.githubusercontent.com/kocohub/korean-hate-speech/master/labeled/train.tsv\",\n",
    "    \"dev.tsv\": \"https://raw.githubusercontent.com/kocohub/korean-hate-speech/master/labeled/dev.tsv\",\n",
    "}\n",
    "\n",
    "for filename, url in urls.items():\n",
    "    response = requests.get(url)\n",
    "    with open(filename, \"w\", encoding=\"utf-8\") as f:\n",
    "        f.write(response.text)\n"
   ]
  },
  {
   "cell_type": "code",
   "execution_count": 10,
   "id": "4d1f1156-bc57-4b66-b05a-9dcdf1f8a75f",
   "metadata": {},
   "outputs": [
    {
     "name": "stdout",
     "output_type": "stream",
     "text": [
      "train 저장 완료: 78977개 샘플\n",
      "test 저장 완료: 21939개 샘플\n",
      "validation 저장 완료: 8776개 샘플\n"
     ]
    }
   ],
   "source": [
    "from datasets import load_dataset\n",
    "import pandas as pd\n",
    "\n",
    "# 1) 데이터셋 로드\n",
    "ds = load_dataset(\"jeanlee/kmhas_korean_hate_speech\")\n",
    "\n",
    "# 2) 각 split을 한글 깨짐 없이 CSV로 저장\n",
    "for split in ['train', 'test', 'validation']:\n",
    "    df = ds[split].to_pandas()\n",
    "    df.to_csv(f\"KMHAS_{split}.csv\", index=False, encoding='utf-8-sig')\n",
    "    print(f\"{split} 저장 완료: {df.shape[0]}개 샘플\")\n"
   ]
  },
  {
   "cell_type": "code",
   "execution_count": 9,
   "id": "b93f49f1-5d9d-4345-8b51-62464fd6ffc2",
   "metadata": {},
   "outputs": [
    {
     "data": {
      "text/plain": [
       "'C:\\\\Users\\\\OptLab\\\\Desktop\\\\tori\\\\Proejct\\\\find_disgust'"
      ]
     },
     "execution_count": 9,
     "metadata": {},
     "output_type": "execute_result"
    }
   ],
   "source": [
    "%pwd"
   ]
  },
  {
   "cell_type": "code",
   "execution_count": null,
   "id": "5475ae96-1ba0-4496-bb3c-65ba8f496646",
   "metadata": {},
   "outputs": [],
   "source": []
  }
 ],
 "metadata": {
  "kernelspec": {
   "display_name": "Python 3.9 (py390)",
   "language": "python",
   "name": "py390"
  },
  "language_info": {
   "codemirror_mode": {
    "name": "ipython",
    "version": 3
   },
   "file_extension": ".py",
   "mimetype": "text/x-python",
   "name": "python",
   "nbconvert_exporter": "python",
   "pygments_lexer": "ipython3",
   "version": "3.9.19"
  }
 },
 "nbformat": 4,
 "nbformat_minor": 5
}
